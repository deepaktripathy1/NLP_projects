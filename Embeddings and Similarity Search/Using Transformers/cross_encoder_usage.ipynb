{
  "nbformat": 4,
  "nbformat_minor": 0,
  "metadata": {
    "colab": {
      "provenance": []
    },
    "kernelspec": {
      "name": "python3",
      "display_name": "Python 3"
    },
    "language_info": {
      "name": "python"
    }
  },
  "cells": [
    {
      "cell_type": "code",
      "execution_count": null,
      "metadata": {
        "id": "Ht9yWOQO1g3u"
      },
      "outputs": [],
      "source": [
        "\"\"\"\n",
        "This example computes the score between a query and all possible\n",
        "sentences in a corpus using a Cross-Encoder for semantic textual similarity (STS).\n",
        "It output then the most similar sentences for the given query.\n",
        "\"\"\"\n",
        "from sentence_transformers.cross_encoder import CrossEncoder\n",
        "import numpy as np\n",
        "\n",
        "# Pre-trained cross encoder\n",
        "model = CrossEncoder('cross-encoder/stsb-distilroberta-base')\n",
        "\n",
        "# We want to compute the similarity between the query sentence\n",
        "query = 'A man is eating pasta.'\n",
        "\n",
        "# With all sentences in the corpus\n",
        "corpus = ['A man is eating food.',\n",
        "          'A man is eating a piece of bread.',\n",
        "          'The girl is carrying a baby.',\n",
        "          'A man is riding a horse.',\n",
        "          'A woman is playing violin.',\n",
        "          'Two men pushed carts through the woods.',\n",
        "          'A man is riding a white horse on an enclosed ground.',\n",
        "          'A monkey is playing drums.',\n",
        "          'A cheetah is running behind its prey.'\n",
        "          ]\n",
        "\n",
        "# So we create the respective sentence combinations\n",
        "sentence_combinations = [[query, corpus_sentence] for corpus_sentence in corpus]\n",
        "\n",
        "# Compute the similarity scores for these combinations\n",
        "similarity_scores = model.predict(sentence_combinations)\n",
        "\n",
        "# Sort the scores in decreasing order\n",
        "sim_scores_argsort = reversed(np.argsort(similarity_scores))\n",
        "\n",
        "# Print the scores\n",
        "print(\"Query:\", query)\n",
        "for idx in sim_scores_argsort:\n",
        "    print(\"{:.2f}\\t{}\".format(similarity_scores[idx], corpus[idx]))"
      ]
    }
  ]
}